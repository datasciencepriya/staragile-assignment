{
 "cells": [
  {
   "cell_type": "markdown",
   "id": "8767614a",
   "metadata": {},
   "source": [
    "real data --> collect & store data ---> clean & organizwe data --> exploratory data analysis --> ml model[supervised learning -predicting an outcome][unsupervised learning -discover patterns in data]"
   ]
  },
  {
   "cell_type": "markdown",
   "id": "1a5258f5",
   "metadata": {},
   "source": [
    "prbms solved in Ml: types of ML "
   ]
  },
  {
   "cell_type": "markdown",
   "id": "a795fc6b",
   "metadata": {},
   "source": [
    "why ml:\n",
    "    in general : study od dtatistical alg that improve automatically throgh data.this will rely on uman input what approach.ml al infer best approach from the dataitself"
   ]
  },
  {
   "cell_type": "markdown",
   "id": "16f0c9e6",
   "metadata": {},
   "source": [
    "- ML can solve :\n",
    "    - credit scoring\n",
    "    - insurance risk\n",
    "    - price forecasting\n",
    "    - spam filtering(email spaming)\n",
    "    - customer segmentation(marketing agenciese)"
   ]
  },
  {
   "cell_type": "markdown",
   "id": "dcdec22f",
   "metadata": {},
   "source": [
    "-structure of ml:\n",
    "    - given features from dataset obtain desired label\n",
    "    - ml alg are estimators since they are estimating the desired label"
   ]
  },
  {
   "cell_type": "markdown",
   "id": "fdc0d86b",
   "metadata": {},
   "source": [
    "ml alg rely on data and set of statistical methods to learn what features are imp in data"
   ]
  },
  {
   "cell_type": "markdown",
   "id": "1bddd706",
   "metadata": {},
   "source": [
    "ex: predict price : area,bedrooms,bathrooms etc based on the feature"
   ]
  },
  {
   "cell_type": "markdown",
   "id": "d1c9f9cd",
   "metadata": {},
   "source": [
    "- house price prediction:\n",
    "    -typical alg\n",
    "    -human users define an alg to manually set values of imp from existing data"
   ]
  },
  {
   "cell_type": "markdown",
   "id": "101f7e7b",
   "metadata": {},
   "source": [
    "why ml:\n",
    "    many complex pbms are solvable with ml techniques\n",
    "    pbms sucha s spam email or handwriting identification require ml for an effective sol"
   ]
  },
  {
   "cell_type": "markdown",
   "id": "11d2f477",
   "metadata": {},
   "source": [
    "why not just use ml for everything?\n",
    "    - major caveat to effective ML is good data.\n",
    "    - majority of development time is spent cleaning and organizing data, not implementing ML algorithms"
   ]
  },
  {
   "cell_type": "markdown",
   "id": "812ea428",
   "metadata": {},
   "source": [
    "### Type of ML:\n",
    "   - supervised learning- using historical(conventional) and labeled data, the ml modelpredicts val. supervised learning requires\n",
    "   -historical labelled data: \n",
    "   -     1. Known results and data from the past\n",
    "    - Labelled:\n",
    "         - the deisred output is known\n",
    "        #### two main label types:\n",
    "                - catgorical value to predict \n",
    "                    - classification task:\n",
    "                        - predict an assigned catogory:\n",
    "                            - cancerous vs. benign tumor\n",
    "                            - fullfillment vs credit default\n",
    "                            - assigning image catogory\n",
    "                                   - Handwriting recognition\n",
    "                      \n",
    "                - continuous value to  predict \n",
    "                    - Regression task\n",
    "                        - predict a continuous value\n",
    "                             - future prices \n",
    "                             - electricity loads\n",
    "                             - test scores\n",
    "         \n",
    "   -  unsupervised learning- applied to unlabeled data, the ml model discovers possible patterns in the data\n",
    "      - group and interpret data without a label\n",
    "          - example:\n",
    "              - clustering cutomres into seperate groups based off their behaviour features\n",
    "              - major drawback is thre was no historical \" correct label. it is much harder to evaluate performance of an unsupervised learning algorithm\n",
    "              "
   ]
  },
  {
   "cell_type": "markdown",
   "id": "f9fb4a5f",
   "metadata": {},
   "source": [
    "### supervised mechine learning process:"
   ]
  },
  {
   "cell_type": "code",
   "execution_count": null,
   "id": "7fdf8efd",
   "metadata": {},
   "outputs": [],
   "source": [
    "### ml pathway :\n",
    "   *(collect & store data--> clean and organise data---> exploratory data analysis )---> ML model\n",
    "                                        ||                                    supervised learning                                         \n",
    "                                        ||                                 unsupervised learning\n",
    "                          these three uses jupyter,numpy,pandas,matplotlib,seaborn        ||\n",
    "                                                                               scikit - learn lib"
   ]
  },
  {
   "cell_type": "markdown",
   "id": "2303c311",
   "metadata": {},
   "source": [
    "supervised learning: predict an outcome\n",
    "unsupervised learning : discover patterns in data"
   ]
  },
  {
   "cell_type": "code",
   "execution_count": null,
   "id": "863f5b1b",
   "metadata": {},
   "outputs": [],
   "source": [
    "supervised ml process:"
   ]
  },
  {
   "cell_type": "code",
   "execution_count": null,
   "id": "5ec10ab8",
   "metadata": {},
   "outputs": [],
   "source": [
    "a manager wants to find the relationship between the "
   ]
  }
 ],
 "metadata": {
  "kernelspec": {
   "display_name": "Python 3 (ipykernel)",
   "language": "python",
   "name": "python3"
  },
  "language_info": {
   "codemirror_mode": {
    "name": "ipython",
    "version": 3
   },
   "file_extension": ".py",
   "mimetype": "text/x-python",
   "name": "python",
   "nbconvert_exporter": "python",
   "pygments_lexer": "ipython3",
   "version": "3.11.4"
  }
 },
 "nbformat": 4,
 "nbformat_minor": 5
}
